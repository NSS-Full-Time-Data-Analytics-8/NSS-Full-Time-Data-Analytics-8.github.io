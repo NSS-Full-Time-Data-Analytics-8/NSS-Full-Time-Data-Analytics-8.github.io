{
 "cells": [
  {
   "cell_type": "markdown",
   "metadata": {},
   "source": [
    "To run this you will need to be at the same directory level as `utilities`\n",
    "\n",
    "If you haven't already cloned the `utilities` repo, you can find it here: https://github.com/NSS-Data-Instructional-Stuff/utilities\n",
    "\n",
    "If you run this from another location, you will have to modify the import statement accordingly"
   ]
  },
  {
   "cell_type": "code",
   "execution_count": 1,
   "metadata": {},
   "outputs": [],
   "source": [
    "from utilities import class_website"
   ]
  },
  {
   "cell_type": "code",
   "execution_count": 11,
   "metadata": {},
   "outputs": [],
   "source": [
    "path_to_csv = (\"C:/Users/14436/Documents/DDA8/class_website/NSS-Full-Time-Data-Analytics-8.github.io/dda8_class_website_info.csv\")"
   ]
  },
  {
   "cell_type": "code",
   "execution_count": 12,
   "metadata": {},
   "outputs": [
    {
     "name": "stdout",
     "output_type": "stream",
     "text": [
      "cohort.json created: C:/Users/14436/Documents/DDA8/class_website/NSS-Full-Time-Data-Analytics-8.github.io/cohort.json\n"
     ]
    }
   ],
   "source": [
    "class_website.make_cohort_json(path_to_csv)"
   ]
  },
  {
   "cell_type": "code",
   "execution_count": 13,
   "metadata": {},
   "outputs": [],
   "source": [
    "img_dir = (\"C:/Users/14436/Documents/DDA8/class_website/NSS-Full-Time-Data-Analytics-8.github.io/assets/img\")"
   ]
  },
  {
   "cell_type": "code",
   "execution_count": 14,
   "metadata": {},
   "outputs": [
    {
     "name": "stdout",
     "output_type": "stream",
     "text": [
      "max_ar:  0.9980506822612085\n",
      "new height for adam1.jpg:  513\n",
      "adam2.jpg does not have dpi attribute\n",
      "new height for annagrace1.jpeg:  3193\n",
      "annagrace1.jpg does not have dpi attribute\n",
      "new height for annagrace1.jpg:  3193\n",
      "annagrace2.JPG does not have dpi attribute\n",
      "new height for cheyenne1.jpg:  513\n",
      "cheyenne2.jpg does not have dpi attribute\n",
      "new height for christa1.jpg:  513\n",
      "christa2.jpg does not have dpi attribute\n",
      "new height for dhanashree1.jpg:  513\n",
      "dhanashree2.jpg does not have dpi attribute\n",
      "new height for kevin1.jpg:  513\n",
      "kevin2.jpg does not have dpi attribute\n",
      "new height for kirk1.jpg:  513\n",
      "kirk2.jpg does not have dpi attribute\n",
      "new height for kogan1.jpg:  513\n",
      "kogan2.jpg does not have dpi attribute\n",
      "new height for lewis1.jpg:  513\n",
      "lewis2.jpg does not have dpi attribute\n",
      "new height for lisha1.jpg:  513\n",
      "lisha2.jpg does not have dpi attribute\n",
      "new height for mark1.jpg:  513\n",
      "mark2.jpg does not have dpi attribute\n",
      "new height for matthew1.jpg:  513\n",
      "matthew2.jpg does not have dpi attribute\n",
      "new height for morgan1.jpg:  513\n",
      "morgan2.jpg does not have dpi attribute\n",
      "new height for rachel1.jpg:  513\n",
      "rachel2.jpg does not have dpi attribute\n",
      "new height for rainwater1.jpeg:  866\n",
      "rainwater1.jpg does not have dpi attribute\n",
      "new height for rainwater1.jpg:  866\n",
      "rainwater2.jpg does not have dpi attribute\n",
      "new height for sebastian1.jpg:  513\n",
      "sebastian2.jpg does not have dpi attribute\n",
      "new width for steph1.jpg:  2156\n",
      "steph2.jpg does not have dpi attribute\n",
      "new height for theodore1.jpg:  513\n",
      "theodore2.jpg does not have dpi attribute\n",
      "new height for theresa1.jpg:  513\n",
      "theresa2.jpg does not have dpi attribute\n",
      "new width for wendy1.jpg:  1940\n",
      "wendy2.jpg does not have dpi attribute\n",
      "prepared all images in C:/Users/14436/Documents/DDA8/class_website/NSS-Full-Time-Data-Analytics-8.github.io/assets/img\n"
     ]
    }
   ],
   "source": [
    "class_website.prepare_images(img_dir)"
   ]
  },
  {
   "cell_type": "code",
   "execution_count": null,
   "metadata": {},
   "outputs": [],
   "source": []
  }
 ],
 "metadata": {
  "kernelspec": {
   "display_name": "Python 3 (ipykernel)",
   "language": "python",
   "name": "python3"
  },
  "language_info": {
   "codemirror_mode": {
    "name": "ipython",
    "version": 3
   },
   "file_extension": ".py",
   "mimetype": "text/x-python",
   "name": "python",
   "nbconvert_exporter": "python",
   "pygments_lexer": "ipython3",
   "version": "3.8.3"
  }
 },
 "nbformat": 4,
 "nbformat_minor": 4
}
